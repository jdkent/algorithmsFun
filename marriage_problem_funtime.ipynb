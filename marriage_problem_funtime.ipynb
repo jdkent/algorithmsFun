{
 "cells": [
  {
   "cell_type": "code",
   "execution_count": 31,
   "metadata": {},
   "outputs": [],
   "source": [
    "\n",
    "# initialize variables\n",
    "husband = {'clare': 0, 'bertha': 0, 'amy': 0}\n",
    "\n",
    "wife = {'zeus': 0, 'xavier': 0, 'yancey': 0}\n",
    "\n",
    "men = {\n",
    "       'xavier': ['amy', 'bertha', 'clare'],\n",
    "       'yancey': ['bertha', 'amy', 'clare'],\n",
    "       'zeus': ['amy', 'bertha', 'clare']\n",
    "      }\n",
    "\n",
    "women = {\n",
    "         'amy': ['yancey', 'xavier', 'zeus'],\n",
    "         'bertha': ['xavier', 'yancey', 'zeus'],\n",
    "         'clare': ['xavier', 'yancey', 'zeus']\n",
    "        }\n",
    "\n",
    "\n"
   ]
  },
  {
   "cell_type": "code",
   "execution_count": 32,
   "metadata": {},
   "outputs": [],
   "source": [
    "# while a wife doesn't have a husband\n",
    "while 0 in wife.values():\n",
    "    # iterate over all man\n",
    "    for man in men.keys():\n",
    "        # if the man is single (doesn't have a wife)\n",
    "        if wife[man] == 0:\n",
    "            # the woman is the man's first available choice\n",
    "            woman = men[man][0]\n",
    "            # if the woman is single\n",
    "            if husband[woman] == 0:\n",
    "                # ENGAGED\n",
    "                husband[woman] = man\n",
    "                wife[man] = woman\n",
    "            # if the engaged woman's current husband is further down the preference list than the current man\n",
    "            elif women[woman].index(husband[woman]) > women[woman].index(man):\n",
    "                # make the husband single\n",
    "                wife[husband[woman]] = 0\n",
    "                # remove the possibility that he will ever try to marry her again :(\n",
    "                men[husband[woman]].remove(woman)\n",
    "                # ENGAGED\n",
    "                husband[woman] = man\n",
    "                wife[man] = woman\n",
    "            else:\n",
    "                # REJECTED\n",
    "                men[man].remove(woman)\n",
    "        "
   ]
  },
  {
   "cell_type": "code",
   "execution_count": 33,
   "metadata": {},
   "outputs": [
    {
     "data": {
      "text/plain": [
       "{'clare': 'zeus', 'bertha': 'yancey', 'amy': 'xavier'}"
      ]
     },
     "execution_count": 33,
     "metadata": {},
     "output_type": "execute_result"
    }
   ],
   "source": [
    "husband"
   ]
  },
  {
   "cell_type": "code",
   "execution_count": 34,
   "metadata": {},
   "outputs": [
    {
     "data": {
      "text/plain": [
       "{'zeus': 'clare', 'xavier': 'amy', 'yancey': 'bertha'}"
      ]
     },
     "execution_count": 34,
     "metadata": {},
     "output_type": "execute_result"
    }
   ],
   "source": [
    "wife"
   ]
  }
 ],
 "metadata": {
  "kernelspec": {
   "display_name": "Python 3",
   "language": "python",
   "name": "python3"
  },
  "language_info": {
   "codemirror_mode": {
    "name": "ipython",
    "version": 3
   },
   "file_extension": ".py",
   "mimetype": "text/x-python",
   "name": "python",
   "nbconvert_exporter": "python",
   "pygments_lexer": "ipython3",
   "version": "3.6.4"
  }
 },
 "nbformat": 4,
 "nbformat_minor": 2
}
